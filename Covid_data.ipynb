{
 "cells": [
  {
   "cell_type": "markdown",
   "id": "6970d742-d65f-42dd-8761-8fbd67a60954",
   "metadata": {
    "tags": []
   },
   "source": [
    "# Covid Data Notebook  "
   ]
  },
  {
   "cell_type": "code",
   "execution_count": 1,
   "id": "cbe630af-f350-4fcf-806f-b2f9a1b52622",
   "metadata": {},
   "outputs": [],
   "source": [
    "import pandas as pd \n",
    "import matplotlib.pyplot as plt "
   ]
  },
  {
   "cell_type": "code",
   "execution_count": 29,
   "id": "8e14610e-c887-4238-8fab-453554c844ba",
   "metadata": {},
   "outputs": [],
   "source": [
    "who_data = pd.read_csv('WHO-COVID-19-global-data.csv')"
   ]
  },
  {
   "cell_type": "code",
   "execution_count": 30,
   "id": "63aca573-2954-475a-878f-11e1ff2ef580",
   "metadata": {},
   "outputs": [
    {
     "name": "stdout",
     "output_type": "stream",
     "text": [
      "<class 'pandas.core.frame.DataFrame'>\n",
      "RangeIndex: 154524 entries, 0 to 154523\n",
      "Data columns (total 8 columns):\n",
      " #   Column             Non-Null Count   Dtype \n",
      "---  ------             --------------   ----- \n",
      " 0   Date_reported      154524 non-null  object\n",
      " 1   Country_code       153872 non-null  object\n",
      " 2   Country            154524 non-null  object\n",
      " 3   WHO_region         154524 non-null  object\n",
      " 4   New_cases          154524 non-null  int64 \n",
      " 5   Cumulative_cases   154524 non-null  int64 \n",
      " 6   New_deaths         154524 non-null  int64 \n",
      " 7   Cumulative_deaths  154524 non-null  int64 \n",
      "dtypes: int64(4), object(4)\n",
      "memory usage: 9.4+ MB\n"
     ]
    }
   ],
   "source": [
    "who_data.info()"
   ]
  },
  {
   "cell_type": "code",
   "execution_count": 32,
   "id": "757acb7e-39e6-4ee8-8367-6b1fe040e9d7",
   "metadata": {},
   "outputs": [],
   "source": [
    "columns = ['Date_reported','Country_code','Country','New_cases','New_deaths']\n",
    "who_data2 = who_data[columns]"
   ]
  },
  {
   "cell_type": "code",
   "execution_count": 33,
   "id": "3b296f6c-5379-44b7-beea-3928ec62004a",
   "metadata": {},
   "outputs": [
    {
     "name": "stderr",
     "output_type": "stream",
     "text": [
      "C:\\Users\\micha\\AppData\\Local\\Temp/ipykernel_13544/431961812.py:1: SettingWithCopyWarning: \n",
      "A value is trying to be set on a copy of a slice from a DataFrame.\n",
      "Try using .loc[row_indexer,col_indexer] = value instead\n",
      "\n",
      "See the caveats in the documentation: https://pandas.pydata.org/pandas-docs/stable/user_guide/indexing.html#returning-a-view-versus-a-copy\n",
      "  who_data2['Date_reported'] = pd.to_datetime(who_data2['Date_reported']).dt.date\n"
     ]
    }
   ],
   "source": [
    "who_data2['Date_reported'] = pd.to_datetime(who_data2['Date_reported']).dt.date"
   ]
  },
  {
   "cell_type": "code",
   "execution_count": 34,
   "id": "a9f06d09-bc45-43a2-85d3-6347a7ccd6a5",
   "metadata": {},
   "outputs": [
    {
     "name": "stdout",
     "output_type": "stream",
     "text": [
      "<class 'pandas.core.frame.DataFrame'>\n",
      "RangeIndex: 154524 entries, 0 to 154523\n",
      "Data columns (total 5 columns):\n",
      " #   Column         Non-Null Count   Dtype \n",
      "---  ------         --------------   ----- \n",
      " 0   Date_reported  154524 non-null  object\n",
      " 1   Country_code   153872 non-null  object\n",
      " 2   Country        154524 non-null  object\n",
      " 3   New_cases      154524 non-null  int64 \n",
      " 4   New_deaths     154524 non-null  int64 \n",
      "dtypes: int64(2), object(3)\n",
      "memory usage: 5.9+ MB\n"
     ]
    }
   ],
   "source": [
    "who_data2.info()"
   ]
  },
  {
   "cell_type": "code",
   "execution_count": 37,
   "id": "28a35873-f2e5-4299-a6f1-12b32551634a",
   "metadata": {},
   "outputs": [
    {
     "data": {
      "text/html": [
       "<div>\n",
       "<style scoped>\n",
       "    .dataframe tbody tr th:only-of-type {\n",
       "        vertical-align: middle;\n",
       "    }\n",
       "\n",
       "    .dataframe tbody tr th {\n",
       "        vertical-align: top;\n",
       "    }\n",
       "\n",
       "    .dataframe thead th {\n",
       "        text-align: right;\n",
       "    }\n",
       "</style>\n",
       "<table border=\"1\" class=\"dataframe\">\n",
       "  <thead>\n",
       "    <tr style=\"text-align: right;\">\n",
       "      <th></th>\n",
       "      <th>Date_reported</th>\n",
       "      <th>Country_code</th>\n",
       "      <th>Country</th>\n",
       "      <th>New_cases</th>\n",
       "      <th>New_deaths</th>\n",
       "    </tr>\n",
       "  </thead>\n",
       "  <tbody>\n",
       "    <tr>\n",
       "      <th>147352</th>\n",
       "      <td>2020-01-03</td>\n",
       "      <td>US</td>\n",
       "      <td>United States of America</td>\n",
       "      <td>0</td>\n",
       "      <td>0</td>\n",
       "    </tr>\n",
       "    <tr>\n",
       "      <th>147353</th>\n",
       "      <td>2020-01-04</td>\n",
       "      <td>US</td>\n",
       "      <td>United States of America</td>\n",
       "      <td>0</td>\n",
       "      <td>0</td>\n",
       "    </tr>\n",
       "    <tr>\n",
       "      <th>147354</th>\n",
       "      <td>2020-01-05</td>\n",
       "      <td>US</td>\n",
       "      <td>United States of America</td>\n",
       "      <td>0</td>\n",
       "      <td>0</td>\n",
       "    </tr>\n",
       "    <tr>\n",
       "      <th>147355</th>\n",
       "      <td>2020-01-06</td>\n",
       "      <td>US</td>\n",
       "      <td>United States of America</td>\n",
       "      <td>0</td>\n",
       "      <td>0</td>\n",
       "    </tr>\n",
       "    <tr>\n",
       "      <th>147356</th>\n",
       "      <td>2020-01-07</td>\n",
       "      <td>US</td>\n",
       "      <td>United States of America</td>\n",
       "      <td>0</td>\n",
       "      <td>0</td>\n",
       "    </tr>\n",
       "  </tbody>\n",
       "</table>\n",
       "</div>"
      ],
      "text/plain": [
       "       Date_reported Country_code                   Country  New_cases  \\\n",
       "147352    2020-01-03           US  United States of America          0   \n",
       "147353    2020-01-04           US  United States of America          0   \n",
       "147354    2020-01-05           US  United States of America          0   \n",
       "147355    2020-01-06           US  United States of America          0   \n",
       "147356    2020-01-07           US  United States of America          0   \n",
       "\n",
       "        New_deaths  \n",
       "147352           0  \n",
       "147353           0  \n",
       "147354           0  \n",
       "147355           0  \n",
       "147356           0  "
      ]
     },
     "execution_count": 37,
     "metadata": {},
     "output_type": "execute_result"
    }
   ],
   "source": [
    "us_data = who_data2[who_data['Country_code'] == 'US'] \n",
    "us_data.head()"
   ]
  },
  {
   "cell_type": "code",
   "execution_count": 38,
   "id": "1a368c2e-e491-4dd2-bce8-76adf7768268",
   "metadata": {},
   "outputs": [
    {
     "data": {
      "image/png": "[encoded data removed]",
      "text/plain": [
       "<Figure size 432x288 with 1 Axes>"
      ]
     },
     "metadata": {
      "needs_background": "light"
     },
     "output_type": "display_data"
    }
   ],
   "source": [
    "plt.plot(pd.to_datetime(us_data.Date_reported), us_data.New_cases)\n",
    "plt.xticks(rotation=90)\n",
    "plt.title('Daily Covid Cases in the USA')\n",
    "plt.show()"
   ]
  }
 ],
 "metadata": {
  "kernelspec": {
   "display_name": "Python 3 (ipykernel)",
   "language": "python",
   "name": "python3"
  },
  "language_info": {
   "codemirror_mode": {
    "name": "ipython",
    "version": 3
   },
   "file_extension": ".py",
   "mimetype": "text/x-python",
   "name": "python",
   "nbconvert_exporter": "python",
   "pygments_lexer": "ipython3",
   "version": "3.8.11"
  }
 },
 "nbformat": 4,
 "nbformat_minor": 5
}
