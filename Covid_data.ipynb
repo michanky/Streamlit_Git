{
 "cells": [
  {
   "cell_type": "markdown",
   "id": "6970d742-d65f-42dd-8761-8fbd67a60954",
   "metadata": {
    "tags": []
   },
   "source": [
    "# Covid Data Notebook  "
   ]
  },
  {
   "cell_type": "code",
   "execution_count": 1,
   "id": "cbe630af-f350-4fcf-806f-b2f9a1b52622",
   "metadata": {},
   "outputs": [],
   "source": [
    "import pandas as pd \n",
    "import matplotlib.pyplot as plt "
   ]
  },
  {
   "cell_type": "code",
   "execution_count": 2,
   "id": "a76dfa6e-561a-4e05-8071-4512b1cb5df9",
   "metadata": {},
   "outputs": [],
   "source": [
    "covid_data = pd.read_csv('daily_covid_data.csv')"
   ]
  },
  {
   "cell_type": "code",
   "execution_count": 5,
   "id": "d99843bc-61c0-4a8b-a0ac-7abfd81e49d6",
   "metadata": {},
   "outputs": [],
   "source": [
    "covid_data.dropna(inplace=True)"
   ]
  },
  {
   "cell_type": "code",
   "execution_count": 6,
   "id": "566933f1-d97b-4b67-8963-ffb2465c9f1a",
   "metadata": {},
   "outputs": [
    {
     "data": {
      "text/html": [
       "<div>\n",
       "<style scoped>\n",
       "    .dataframe tbody tr th:only-of-type {\n",
       "        vertical-align: middle;\n",
       "    }\n",
       "\n",
       "    .dataframe tbody tr th {\n",
       "        vertical-align: top;\n",
       "    }\n",
       "\n",
       "    .dataframe thead th {\n",
       "        text-align: right;\n",
       "    }\n",
       "</style>\n",
       "<table border=\"1\" class=\"dataframe\">\n",
       "  <thead>\n",
       "    <tr style=\"text-align: right;\">\n",
       "      <th></th>\n",
       "      <th>Entity</th>\n",
       "      <th>Code</th>\n",
       "      <th>Day</th>\n",
       "      <th>Daily new confirmed cases of COVID-19</th>\n",
       "      <th>Daily new confirmed deaths due to COVID-19</th>\n",
       "    </tr>\n",
       "  </thead>\n",
       "  <tbody>\n",
       "    <tr>\n",
       "      <th>135</th>\n",
       "      <td>Afghanistan</td>\n",
       "      <td>AFG</td>\n",
       "      <td>2020-03-23</td>\n",
       "      <td>6.0</td>\n",
       "      <td>1.0</td>\n",
       "    </tr>\n",
       "    <tr>\n",
       "      <th>136</th>\n",
       "      <td>Afghanistan</td>\n",
       "      <td>AFG</td>\n",
       "      <td>2020-03-24</td>\n",
       "      <td>2.0</td>\n",
       "      <td>0.0</td>\n",
       "    </tr>\n",
       "    <tr>\n",
       "      <th>137</th>\n",
       "      <td>Afghanistan</td>\n",
       "      <td>AFG</td>\n",
       "      <td>2020-03-25</td>\n",
       "      <td>32.0</td>\n",
       "      <td>0.0</td>\n",
       "    </tr>\n",
       "    <tr>\n",
       "      <th>138</th>\n",
       "      <td>Afghanistan</td>\n",
       "      <td>AFG</td>\n",
       "      <td>2020-03-26</td>\n",
       "      <td>6.0</td>\n",
       "      <td>1.0</td>\n",
       "    </tr>\n",
       "    <tr>\n",
       "      <th>139</th>\n",
       "      <td>Afghanistan</td>\n",
       "      <td>AFG</td>\n",
       "      <td>2020-03-27</td>\n",
       "      <td>11.0</td>\n",
       "      <td>0.0</td>\n",
       "    </tr>\n",
       "  </tbody>\n",
       "</table>\n",
       "</div>"
      ],
      "text/plain": [
       "          Entity Code         Day  Daily new confirmed cases of COVID-19  \\\n",
       "135  Afghanistan  AFG  2020-03-23                                    6.0   \n",
       "136  Afghanistan  AFG  2020-03-24                                    2.0   \n",
       "137  Afghanistan  AFG  2020-03-25                                   32.0   \n",
       "138  Afghanistan  AFG  2020-03-26                                    6.0   \n",
       "139  Afghanistan  AFG  2020-03-27                                   11.0   \n",
       "\n",
       "     Daily new confirmed deaths due to COVID-19  \n",
       "135                                         1.0  \n",
       "136                                         0.0  \n",
       "137                                         0.0  \n",
       "138                                         1.0  \n",
       "139                                         0.0  "
      ]
     },
     "execution_count": 6,
     "metadata": {},
     "output_type": "execute_result"
    }
   ],
   "source": [
    "covid_data.head()"
   ]
  },
  {
   "cell_type": "code",
   "execution_count": 15,
   "id": "edfc45c3-82c3-4605-8584-0fe91656646a",
   "metadata": {},
   "outputs": [
    {
     "data": {
      "text/html": [
       "<div>\n",
       "<style scoped>\n",
       "    .dataframe tbody tr th:only-of-type {\n",
       "        vertical-align: middle;\n",
       "    }\n",
       "\n",
       "    .dataframe tbody tr th {\n",
       "        vertical-align: top;\n",
       "    }\n",
       "\n",
       "    .dataframe thead th {\n",
       "        text-align: right;\n",
       "    }\n",
       "</style>\n",
       "<table border=\"1\" class=\"dataframe\">\n",
       "  <thead>\n",
       "    <tr style=\"text-align: right;\">\n",
       "      <th></th>\n",
       "      <th>Entity</th>\n",
       "      <th>Code</th>\n",
       "      <th>Day</th>\n",
       "      <th>Daily new confirmed cases of COVID-19</th>\n",
       "      <th>Daily new confirmed deaths due to COVID-19</th>\n",
       "    </tr>\n",
       "  </thead>\n",
       "  <tbody>\n",
       "    <tr>\n",
       "      <th>111365</th>\n",
       "      <td>United States</td>\n",
       "      <td>USA</td>\n",
       "      <td>2020-02-29</td>\n",
       "      <td>8.0</td>\n",
       "      <td>1.0</td>\n",
       "    </tr>\n",
       "    <tr>\n",
       "      <th>111366</th>\n",
       "      <td>United States</td>\n",
       "      <td>USA</td>\n",
       "      <td>2020-03-01</td>\n",
       "      <td>7.0</td>\n",
       "      <td>0.0</td>\n",
       "    </tr>\n",
       "    <tr>\n",
       "      <th>111367</th>\n",
       "      <td>United States</td>\n",
       "      <td>USA</td>\n",
       "      <td>2020-03-02</td>\n",
       "      <td>23.0</td>\n",
       "      <td>5.0</td>\n",
       "    </tr>\n",
       "    <tr>\n",
       "      <th>111368</th>\n",
       "      <td>United States</td>\n",
       "      <td>USA</td>\n",
       "      <td>2020-03-03</td>\n",
       "      <td>19.0</td>\n",
       "      <td>1.0</td>\n",
       "    </tr>\n",
       "    <tr>\n",
       "      <th>111369</th>\n",
       "      <td>United States</td>\n",
       "      <td>USA</td>\n",
       "      <td>2020-03-04</td>\n",
       "      <td>33.0</td>\n",
       "      <td>4.0</td>\n",
       "    </tr>\n",
       "  </tbody>\n",
       "</table>\n",
       "</div>"
      ],
      "text/plain": [
       "               Entity Code         Day  Daily new confirmed cases of COVID-19  \\\n",
       "111365  United States  USA  2020-02-29                                    8.0   \n",
       "111366  United States  USA  2020-03-01                                    7.0   \n",
       "111367  United States  USA  2020-03-02                                   23.0   \n",
       "111368  United States  USA  2020-03-03                                   19.0   \n",
       "111369  United States  USA  2020-03-04                                   33.0   \n",
       "\n",
       "        Daily new confirmed deaths due to COVID-19  \n",
       "111365                                         1.0  \n",
       "111366                                         0.0  \n",
       "111367                                         5.0  \n",
       "111368                                         1.0  \n",
       "111369                                         4.0  "
      ]
     },
     "execution_count": 15,
     "metadata": {},
     "output_type": "execute_result"
    }
   ],
   "source": [
    "us_data = covid_data[covid_data['Code'] == 'USA'] \n",
    "us_data.head()"
   ]
  },
  {
   "cell_type": "code",
   "execution_count": 14,
   "id": "6b0d4cbf-6346-4191-afaa-d607a4aef58c",
   "metadata": {},
   "outputs": [
    {
     "data": {
      "image/png": "[encoded data removed]",
      "text/plain": [
       "<Figure size 432x288 with 1 Axes>"
      ]
     },
     "metadata": {
      "needs_background": "light"
     },
     "output_type": "display_data"
    }
   ],
   "source": [
    "plt.plot(pd.to_datetime(us_data.Day), us_data['Daily new confirmed cases of COVID-19'])\n",
    "plt.xticks(rotation=90)\n",
    "plt.title('Daily Covid Cases in the USA')\n",
    "plt.show()"
   ]
  }
 ],
 "metadata": {
  "kernelspec": {
   "display_name": "Python 3 (ipykernel)",
   "language": "python",
   "name": "python3"
  },
  "language_info": {
   "codemirror_mode": {
    "name": "ipython",
    "version": 3
   },
   "file_extension": ".py",
   "mimetype": "text/x-python",
   "name": "python",
   "nbconvert_exporter": "python",
   "pygments_lexer": "ipython3",
   "version": "3.8.11"
  }
 },
 "nbformat": 4,
 "nbformat_minor": 5
}
